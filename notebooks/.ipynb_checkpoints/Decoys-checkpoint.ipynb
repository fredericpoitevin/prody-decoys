{
 "cells": [
  {
   "cell_type": "code",
   "execution_count": null,
   "metadata": {},
   "outputs": [],
   "source": [
    "%matplotlib inline\n",
    "\n",
    "import os, wget\n",
    "from matplotlib import pyplot as plt\n",
    "import numpy as np\n",
    "from prody import *"
   ]
  },
  {
   "cell_type": "markdown",
   "metadata": {},
   "source": [
    "Let's set prody verbose level to a minimum"
   ]
  },
  {
   "cell_type": "code",
   "execution_count": 137,
   "metadata": {},
   "outputs": [],
   "source": [
    "confProDy(verbosity='critical')"
   ]
  },
  {
   "cell_type": "markdown",
   "metadata": {},
   "source": [
    "# Download PDB structures"
   ]
  },
  {
   "cell_type": "markdown",
   "metadata": {},
   "source": [
    "We store our PDB files in a local storage directory"
   ]
  },
  {
   "cell_type": "code",
   "execution_count": 2,
   "metadata": {},
   "outputs": [],
   "source": [
    "local_storage = './data/'"
   ]
  },
  {
   "cell_type": "markdown",
   "metadata": {},
   "source": [
    "Those are the PDB ID for the (resp.) closed and open forms of the Adenylate Kinase"
   ]
  },
  {
   "cell_type": "code",
   "execution_count": 3,
   "metadata": {},
   "outputs": [],
   "source": [
    "pdb_list = ['1AKE', '4AKE']"
   ]
  },
  {
   "cell_type": "markdown",
   "metadata": {},
   "source": [
    "Let's download them if not done already"
   ]
  },
  {
   "cell_type": "code",
   "execution_count": 4,
   "metadata": {},
   "outputs": [],
   "source": [
    "for pdb_id in pdb_list:\n",
    "    if not os.path.isfile(f'{local_storage}{pdb_id.lower()}.pdb'):\n",
    "        pdb_url=f'https://files.rcsb.org/download/{pdb_id.upper()}.pdb'\n",
    "        pdb_filename = wget.download(pdb_url, out='./data/')"
   ]
  },
  {
   "cell_type": "markdown",
   "metadata": {},
   "source": [
    "# Load structures"
   ]
  },
  {
   "cell_type": "markdown",
   "metadata": {},
   "source": [
    "We load the structures with ProDy"
   ]
  },
  {
   "cell_type": "code",
   "execution_count": 10,
   "metadata": {},
   "outputs": [
    {
     "name": "stderr",
     "output_type": "stream",
     "text": [
      "@> 3459 atoms and 1 coordinate set(s) were parsed in 0.03s.\n",
      "@> 3804 atoms and 1 coordinate set(s) were parsed in 0.03s.\n"
     ]
    }
   ],
   "source": [
    "AdenylateKinase_open   = parsePDB(f'{local_storage}4ake.pdb')\n",
    "AdenylateKinase_closed = parsePDB(f'{local_storage}1ake.pdb')"
   ]
  },
  {
   "cell_type": "markdown",
   "metadata": {},
   "source": [
    "There are multiple copies in the PDB files (from the crystal asymetric unit) but we only care about chain A"
   ]
  },
  {
   "cell_type": "code",
   "execution_count": 11,
   "metadata": {},
   "outputs": [],
   "source": [
    "AK_open   = AdenylateKinase_open.select('protein and chain A')\n",
    "AK_closed = AdenylateKinase_closed.select('protein and chain A')"
   ]
  },
  {
   "cell_type": "markdown",
   "metadata": {},
   "source": [
    "Let's superimpose them"
   ]
  },
  {
   "cell_type": "code",
   "execution_count": 12,
   "metadata": {},
   "outputs": [
    {
     "name": "stdout",
     "output_type": "stream",
     "text": [
      "RMSD before superpose: 75.09 A\n",
      "RMSD after superpose: 7.19 A\n"
     ]
    }
   ],
   "source": [
    "print(f'RMSD before superpose: {calcRMSD(AK_closed, AK_open).round(2)} A')\n",
    "t = calcTransformation(AK_open, AK_closed)\n",
    "t.apply(AdenylateKinase_open)\n",
    "print(f'RMSD after superpose: {calcRMSD(AK_closed, AK_open).round(2)} A')"
   ]
  },
  {
   "cell_type": "markdown",
   "metadata": {},
   "source": [
    "For fun, let's look at the \"deformation vector\""
   ]
  },
  {
   "cell_type": "code",
   "execution_count": 29,
   "metadata": {},
   "outputs": [
    {
     "data": {
      "image/png": "[encoded data removed]",
      "text/plain": [
       "<Figure size 432x288 with 1 Axes>"
      ]
     },
     "metadata": {
      "needs_background": "light"
     },
     "output_type": "display_data"
    }
   ],
   "source": [
    "defvec = calcDeformVector(AK_closed, AK_open)\n",
    "plt.title('Deformation vector')\n",
    "plt.plot(defvec.getArray())\n",
    "plt.xlabel('DOF index')\n",
    "plt.show()"
   ]
  },
  {
   "cell_type": "markdown",
   "metadata": {},
   "source": [
    "# Compute normal modes"
   ]
  },
  {
   "cell_type": "markdown",
   "metadata": {},
   "source": [
    "Now we compute the normal modes for the Open form, and then the Closed form"
   ]
  },
  {
   "cell_type": "code",
   "execution_count": 24,
   "metadata": {},
   "outputs": [
    {
     "name": "stderr",
     "output_type": "stream",
     "text": [
      "@> Hessian was built in 3.86s.\n",
      "@> 20 modes were calculated in 5.69s.\n"
     ]
    }
   ],
   "source": [
    "anm_open = ANM('')\n",
    "anm_open.buildHessian(AK_open)\n",
    "anm_open.calcModes()"
   ]
  },
  {
   "cell_type": "code",
   "execution_count": 25,
   "metadata": {},
   "outputs": [
    {
     "name": "stderr",
     "output_type": "stream",
     "text": [
      "@> Hessian was built in 4.29s.\n",
      "@> 20 modes were calculated in 6.02s.\n"
     ]
    }
   ],
   "source": [
    "anm_closed = ANM('')\n",
    "anm_closed.buildHessian(AK_closed)\n",
    "anm_closed.calcModes()"
   ]
  },
  {
   "cell_type": "markdown",
   "metadata": {},
   "source": [
    "Each normal mode is defined by an eigenvector (you can think of it as a deformation vector) and an eigenvalue. The variance of each mode - i.e. the conformational spread that it covers for a given amount of energy - is proportional to its inverse eigenvalue. We plots them below."
   ]
  },
  {
   "cell_type": "code",
   "execution_count": 27,
   "metadata": {},
   "outputs": [
    {
     "data": {
      "image/png": "[encoded data removed]",
      "text/plain": [
       "<Figure size 432x288 with 1 Axes>"
      ]
     },
     "metadata": {
      "needs_background": "light"
     },
     "output_type": "display_data"
    }
   ],
   "source": [
    "plt.title('Mode Variance')\n",
    "plt.bar(np.arange(anm_open.numModes()),1./anm_open.getEigvals(), label='Open')\n",
    "plt.bar(np.arange(anm_closed.numModes()),1./anm_closed.getEigvals(), label='Closed')\n",
    "plt.legend()\n",
    "plt.show()"
   ]
  },
  {
   "cell_type": "markdown",
   "metadata": {},
   "source": [
    "We see that the open form covers more spread than the closed one for the same amount of energy. In particular in the first 10 modes. In the next section we'll see if we can deform the Open state to reach the Closed state."
   ]
  },
  {
   "cell_type": "markdown",
   "metadata": {},
   "source": [
    "# Generate Decoys along first K modes"
   ]
  },
  {
   "cell_type": "markdown",
   "metadata": {},
   "source": [
    "Let's play a game. Using the first 5 vectors of the open structure, we will randomly generate decoys, and save any decoy that is closer to the closed structure than the ones before:"
   ]
  },
  {
   "cell_type": "code",
   "execution_count": 149,
   "metadata": {},
   "outputs": [],
   "source": [
    "AK_tmp = AK_open.copy()"
   ]
  },
  {
   "cell_type": "code",
   "execution_count": 133,
   "metadata": {},
   "outputs": [],
   "source": [
    "n_confs = 1\n",
    "n_modes = 5\n",
    "n_frame = 20\n",
    "n_iter_max = 200\n",
    "rmsd_ave = calcRMSD(AK_closed, AK_open)/2"
   ]
  },
  {
   "cell_type": "code",
   "execution_count": 152,
   "metadata": {
    "scrolled": false
   },
   "outputs": [
    {
     "name": "stdout",
     "output_type": "stream",
     "text": [
      "0/20: closest decoy is at 9.33 A from AK_closed\n",
      "1/20: closest decoy is at 6.86 A from AK_closed\n",
      "2/20: closest decoy is at 6.84 A from AK_closed\n",
      "3/20: closest decoy is at 6.46 A from AK_closed\n",
      "4/20: closest decoy is at 6.1 A from AK_closed\n",
      "5/20: closest decoy is at 4.97 A from AK_closed\n",
      "6/20: closest decoy is at 4.92 A from AK_closed\n",
      "7/20: closest decoy is at 4.65 A from AK_closed\n",
      "8/20: closest decoy is at 4.54 A from AK_closed\n",
      "9/20: closest decoy is at 4.45 A from AK_closed\n"
     ]
    }
   ],
   "source": [
    "i_frame = 0\n",
    "i_iter  = 0\n",
    "rmsd_min = 1e6\n",
    "while (i_frame < n_frame):\n",
    "    ensemble = sampleModes(anm_open[:n_modes], atoms=AK_open, n_confs=n_confs, rmsd=rmsd_ave)\n",
    "    rmsd = np.zeros(n_confs)\n",
    "    for i in np.arange(n_confs):\n",
    "        rmsd[i] = calcRMSD(ensemble[i], AK_closed)\n",
    "    if(min(rmsd)<rmsd_min):\n",
    "        print(f'{i_frame}/{n_frame}: closest decoy is at {min(rmsd).round(2)} A from AK_closed')\n",
    "        rmsd_min = min(rmsd)\n",
    "        coords = ensemble[i].getCoords()\n",
    "        AK_tmp.setCoords(coords)\n",
    "        writePDB(f'{local_storage}AK_{i_frame}.pdb', AK_tmp)\n",
    "        i_frame += 1\n",
    "    i_iter += 1\n",
    "    if (i_iter > n_iter_max):\n",
    "        i_frame = n_frame"
   ]
  },
  {
   "cell_type": "markdown",
   "metadata": {},
   "source": [
    "The input and output PDB files are here:"
   ]
  },
  {
   "cell_type": "code",
   "execution_count": 154,
   "metadata": {},
   "outputs": [
    {
     "data": {
      "text/plain": [
       "['./data/AK_9.pdb',\n",
       " './data/4ake.pdb',\n",
       " './data/AK_8.pdb',\n",
       " './data/trash',\n",
       " './data/AK_6.pdb',\n",
       " './data/AK_7.pdb',\n",
       " './data/AK_5.pdb',\n",
       " './data/AK_4.pdb',\n",
       " './data/1ake.pdb',\n",
       " './data/AK_0.pdb',\n",
       " './data/AK_1.pdb',\n",
       " './data/AK_3.pdb',\n",
       " './data/AK_2.pdb']"
      ]
     },
     "execution_count": 154,
     "metadata": {},
     "output_type": "execute_result"
    }
   ],
   "source": [
    "from glob import glob\n",
    "glob(f'{local_storage}*')"
   ]
  },
  {
   "cell_type": "code",
   "execution_count": null,
   "metadata": {},
   "outputs": [],
   "source": []
  }
 ],
 "metadata": {
  "kernelspec": {
   "display_name": "Python 3",
   "language": "python",
   "name": "python3"
  },
  "language_info": {
   "codemirror_mode": {
    "name": "ipython",
    "version": 3
   },
   "file_extension": ".py",
   "mimetype": "text/x-python",
   "name": "python",
   "nbconvert_exporter": "python",
   "pygments_lexer": "ipython3",
   "version": "3.7.6"
  }
 },
 "nbformat": 4,
 "nbformat_minor": 4
}
